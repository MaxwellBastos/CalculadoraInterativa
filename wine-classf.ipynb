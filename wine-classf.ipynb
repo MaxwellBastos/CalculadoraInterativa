{
 "cells": [
  {
   "cell_type": "markdown",
   "id": "ab4f8c89",
   "metadata": {
    "papermill": {
     "duration": 0.007902,
     "end_time": "2023-01-25T12:37:34.417539",
     "exception": false,
     "start_time": "2023-01-25T12:37:34.409637",
     "status": "completed"
    },
    "tags": []
   },
   "source": [
    "# Classificador de Vinhos\n",
    "\n",
    "Para além do desafio \"Titanic\", esse é um ótimo projeto para quem está iniciando no mundo de Data Science e Machine Learning. Trata-se de um dataset de vinhos no qual vamos explorar com o intuito de elaborar um modelo de Machine Learning capaz de categorizar a bebida com base em suas características, tendo como missão final classificar se o vinho é tinto ou branco."
   ]
  },
  {
   "cell_type": "code",
   "execution_count": 1,
   "id": "5d51018b",
   "metadata": {
    "_cell_guid": "b1076dfc-b9ad-4769-8c92-a6c4dae69d19",
    "_uuid": "8f2839f25d086af736a60e9eeb907d3b93b6e0e5",
    "execution": {
     "iopub.execute_input": "2023-01-25T12:37:34.433471Z",
     "iopub.status.busy": "2023-01-25T12:37:34.432162Z",
     "iopub.status.idle": "2023-01-25T12:37:35.623893Z",
     "shell.execute_reply": "2023-01-25T12:37:35.622848Z"
    },
    "papermill": {
     "duration": 1.202555,
     "end_time": "2023-01-25T12:37:35.626689",
     "exception": false,
     "start_time": "2023-01-25T12:37:34.424134",
     "status": "completed"
    },
    "tags": []
   },
   "outputs": [
    {
     "name": "stdout",
     "output_type": "stream",
     "text": [
      "/kaggle/input/wine-dataset/wine_dataset.csv\n"
     ]
    }
   ],
   "source": [
    "# This Python 3 environment comes with many helpful analytics libraries installed\n",
    "# It is defined by the kaggle/python Docker image: https://github.com/kaggle/docker-python\n",
    "# For example, here's several helpful packages to load\n",
    "\n",
    "import numpy as np # linear algebra\n",
    "import pandas as pd # data processing, CSV file I/O (e.g. pd.read_csv)\n",
    "\n",
    "# Input data files are available in the read-only \"../input/\" directory\n",
    "# For example, running this (by clicking run or pressing Shift+Enter) will list all files under the input directory\n",
    "\n",
    "import os\n",
    "for dirname, _, filenames in os.walk('/kaggle/input'):\n",
    "    for filename in filenames:\n",
    "        print(os.path.join(dirname, filename))\n",
    "\n",
    "from sklearn.model_selection import train_test_split\n",
    "from sklearn.ensemble import ExtraTreesClassifier\n"
   ]
  },
  {
   "cell_type": "code",
   "execution_count": 2,
   "id": "c9c9daec",
   "metadata": {
    "execution": {
     "iopub.execute_input": "2023-01-25T12:37:35.637733Z",
     "iopub.status.busy": "2023-01-25T12:37:35.637386Z",
     "iopub.status.idle": "2023-01-25T12:37:35.668991Z",
     "shell.execute_reply": "2023-01-25T12:37:35.668092Z"
    },
    "papermill": {
     "duration": 0.039846,
     "end_time": "2023-01-25T12:37:35.671356",
     "exception": false,
     "start_time": "2023-01-25T12:37:35.631510",
     "status": "completed"
    },
    "tags": []
   },
   "outputs": [],
   "source": [
    "df = pd.read_csv('../input/wine-dataset/wine_dataset.csv')"
   ]
  },
  {
   "cell_type": "code",
   "execution_count": 3,
   "id": "88de6cbc",
   "metadata": {
    "execution": {
     "iopub.execute_input": "2023-01-25T12:37:35.681841Z",
     "iopub.status.busy": "2023-01-25T12:37:35.681497Z",
     "iopub.status.idle": "2023-01-25T12:37:35.709891Z",
     "shell.execute_reply": "2023-01-25T12:37:35.709007Z"
    },
    "papermill": {
     "duration": 0.035934,
     "end_time": "2023-01-25T12:37:35.711925",
     "exception": false,
     "start_time": "2023-01-25T12:37:35.675991",
     "status": "completed"
    },
    "tags": []
   },
   "outputs": [
    {
     "data": {
      "text/html": [
       "<div>\n",
       "<style scoped>\n",
       "    .dataframe tbody tr th:only-of-type {\n",
       "        vertical-align: middle;\n",
       "    }\n",
       "\n",
       "    .dataframe tbody tr th {\n",
       "        vertical-align: top;\n",
       "    }\n",
       "\n",
       "    .dataframe thead th {\n",
       "        text-align: right;\n",
       "    }\n",
       "</style>\n",
       "<table border=\"1\" class=\"dataframe\">\n",
       "  <thead>\n",
       "    <tr style=\"text-align: right;\">\n",
       "      <th></th>\n",
       "      <th>fixed_acidity</th>\n",
       "      <th>volatile_acidity</th>\n",
       "      <th>citric_acid</th>\n",
       "      <th>residual_sugar</th>\n",
       "      <th>chlorides</th>\n",
       "      <th>free_sulfur_dioxide</th>\n",
       "      <th>total_sulfur_dioxide</th>\n",
       "      <th>density</th>\n",
       "      <th>pH</th>\n",
       "      <th>sulphates</th>\n",
       "      <th>alcohol</th>\n",
       "      <th>quality</th>\n",
       "      <th>style</th>\n",
       "    </tr>\n",
       "  </thead>\n",
       "  <tbody>\n",
       "    <tr>\n",
       "      <th>0</th>\n",
       "      <td>7.4</td>\n",
       "      <td>0.70</td>\n",
       "      <td>0.00</td>\n",
       "      <td>1.9</td>\n",
       "      <td>0.076</td>\n",
       "      <td>11.0</td>\n",
       "      <td>34.0</td>\n",
       "      <td>0.9978</td>\n",
       "      <td>3.51</td>\n",
       "      <td>0.56</td>\n",
       "      <td>9.4</td>\n",
       "      <td>5</td>\n",
       "      <td>red</td>\n",
       "    </tr>\n",
       "    <tr>\n",
       "      <th>1</th>\n",
       "      <td>7.8</td>\n",
       "      <td>0.88</td>\n",
       "      <td>0.00</td>\n",
       "      <td>2.6</td>\n",
       "      <td>0.098</td>\n",
       "      <td>25.0</td>\n",
       "      <td>67.0</td>\n",
       "      <td>0.9968</td>\n",
       "      <td>3.20</td>\n",
       "      <td>0.68</td>\n",
       "      <td>9.8</td>\n",
       "      <td>5</td>\n",
       "      <td>red</td>\n",
       "    </tr>\n",
       "    <tr>\n",
       "      <th>2</th>\n",
       "      <td>7.8</td>\n",
       "      <td>0.76</td>\n",
       "      <td>0.04</td>\n",
       "      <td>2.3</td>\n",
       "      <td>0.092</td>\n",
       "      <td>15.0</td>\n",
       "      <td>54.0</td>\n",
       "      <td>0.9970</td>\n",
       "      <td>3.26</td>\n",
       "      <td>0.65</td>\n",
       "      <td>9.8</td>\n",
       "      <td>5</td>\n",
       "      <td>red</td>\n",
       "    </tr>\n",
       "    <tr>\n",
       "      <th>3</th>\n",
       "      <td>11.2</td>\n",
       "      <td>0.28</td>\n",
       "      <td>0.56</td>\n",
       "      <td>1.9</td>\n",
       "      <td>0.075</td>\n",
       "      <td>17.0</td>\n",
       "      <td>60.0</td>\n",
       "      <td>0.9980</td>\n",
       "      <td>3.16</td>\n",
       "      <td>0.58</td>\n",
       "      <td>9.8</td>\n",
       "      <td>6</td>\n",
       "      <td>red</td>\n",
       "    </tr>\n",
       "    <tr>\n",
       "      <th>4</th>\n",
       "      <td>7.4</td>\n",
       "      <td>0.70</td>\n",
       "      <td>0.00</td>\n",
       "      <td>1.9</td>\n",
       "      <td>0.076</td>\n",
       "      <td>11.0</td>\n",
       "      <td>34.0</td>\n",
       "      <td>0.9978</td>\n",
       "      <td>3.51</td>\n",
       "      <td>0.56</td>\n",
       "      <td>9.4</td>\n",
       "      <td>5</td>\n",
       "      <td>red</td>\n",
       "    </tr>\n",
       "  </tbody>\n",
       "</table>\n",
       "</div>"
      ],
      "text/plain": [
       "   fixed_acidity  volatile_acidity  citric_acid  residual_sugar  chlorides  \\\n",
       "0            7.4              0.70         0.00             1.9      0.076   \n",
       "1            7.8              0.88         0.00             2.6      0.098   \n",
       "2            7.8              0.76         0.04             2.3      0.092   \n",
       "3           11.2              0.28         0.56             1.9      0.075   \n",
       "4            7.4              0.70         0.00             1.9      0.076   \n",
       "\n",
       "   free_sulfur_dioxide  total_sulfur_dioxide  density    pH  sulphates  \\\n",
       "0                 11.0                  34.0   0.9978  3.51       0.56   \n",
       "1                 25.0                  67.0   0.9968  3.20       0.68   \n",
       "2                 15.0                  54.0   0.9970  3.26       0.65   \n",
       "3                 17.0                  60.0   0.9980  3.16       0.58   \n",
       "4                 11.0                  34.0   0.9978  3.51       0.56   \n",
       "\n",
       "   alcohol  quality style  \n",
       "0      9.4        5   red  \n",
       "1      9.8        5   red  \n",
       "2      9.8        5   red  \n",
       "3      9.8        6   red  \n",
       "4      9.4        5   red  "
      ]
     },
     "execution_count": 3,
     "metadata": {},
     "output_type": "execute_result"
    }
   ],
   "source": [
    "#Exibindo os cinco primeiros resultados.\n",
    "df.head()"
   ]
  },
  {
   "cell_type": "code",
   "execution_count": 4,
   "id": "0fbffd06",
   "metadata": {
    "execution": {
     "iopub.execute_input": "2023-01-25T12:37:35.722857Z",
     "iopub.status.busy": "2023-01-25T12:37:35.722498Z",
     "iopub.status.idle": "2023-01-25T12:37:35.728922Z",
     "shell.execute_reply": "2023-01-25T12:37:35.727769Z"
    },
    "papermill": {
     "duration": 0.014401,
     "end_time": "2023-01-25T12:37:35.731184",
     "exception": false,
     "start_time": "2023-01-25T12:37:35.716783",
     "status": "completed"
    },
    "tags": []
   },
   "outputs": [
    {
     "data": {
      "text/plain": [
       "(6497, 13)"
      ]
     },
     "execution_count": 4,
     "metadata": {},
     "output_type": "execute_result"
    }
   ],
   "source": [
    "df.shape"
   ]
  },
  {
   "cell_type": "code",
   "execution_count": 5,
   "id": "dabc7294",
   "metadata": {
    "execution": {
     "iopub.execute_input": "2023-01-25T12:37:35.742067Z",
     "iopub.status.busy": "2023-01-25T12:37:35.741789Z",
     "iopub.status.idle": "2023-01-25T12:37:35.749065Z",
     "shell.execute_reply": "2023-01-25T12:37:35.748091Z"
    },
    "papermill": {
     "duration": 0.01516,
     "end_time": "2023-01-25T12:37:35.751149",
     "exception": false,
     "start_time": "2023-01-25T12:37:35.735989",
     "status": "completed"
    },
    "tags": []
   },
   "outputs": [
    {
     "data": {
      "text/plain": [
       "fixed_acidity           float64\n",
       "volatile_acidity        float64\n",
       "citric_acid             float64\n",
       "residual_sugar          float64\n",
       "chlorides               float64\n",
       "free_sulfur_dioxide     float64\n",
       "total_sulfur_dioxide    float64\n",
       "density                 float64\n",
       "pH                      float64\n",
       "sulphates               float64\n",
       "alcohol                 float64\n",
       "quality                   int64\n",
       "style                    object\n",
       "dtype: object"
      ]
     },
     "execution_count": 5,
     "metadata": {},
     "output_type": "execute_result"
    }
   ],
   "source": [
    "df.dtypes"
   ]
  },
  {
   "cell_type": "code",
   "execution_count": 6,
   "id": "50a34737",
   "metadata": {
    "execution": {
     "iopub.execute_input": "2023-01-25T12:37:35.762371Z",
     "iopub.status.busy": "2023-01-25T12:37:35.762107Z",
     "iopub.status.idle": "2023-01-25T12:37:35.770836Z",
     "shell.execute_reply": "2023-01-25T12:37:35.769885Z"
    },
    "papermill": {
     "duration": 0.017005,
     "end_time": "2023-01-25T12:37:35.772991",
     "exception": false,
     "start_time": "2023-01-25T12:37:35.755986",
     "status": "completed"
    },
    "tags": []
   },
   "outputs": [
    {
     "data": {
      "text/plain": [
       "fixed_acidity           0\n",
       "volatile_acidity        0\n",
       "citric_acid             0\n",
       "residual_sugar          0\n",
       "chlorides               0\n",
       "free_sulfur_dioxide     0\n",
       "total_sulfur_dioxide    0\n",
       "density                 0\n",
       "pH                      0\n",
       "sulphates               0\n",
       "alcohol                 0\n",
       "quality                 0\n",
       "style                   0\n",
       "dtype: int64"
      ]
     },
     "execution_count": 6,
     "metadata": {},
     "output_type": "execute_result"
    }
   ],
   "source": [
    "#Verificando se possui valores faltantes;\n",
    "df.isnull().sum()"
   ]
  },
  {
   "cell_type": "markdown",
   "id": "2658c979",
   "metadata": {
    "papermill": {
     "duration": 0.004801,
     "end_time": "2023-01-25T12:37:35.782766",
     "exception": false,
     "start_time": "2023-01-25T12:37:35.777965",
     "status": "completed"
    },
    "tags": []
   },
   "source": [
    "Agora vamos substituir as strings (red e white) na coluna \"Style\" para valores numéricos, a única linguagem que o  algoritmo entende:"
   ]
  },
  {
   "cell_type": "code",
   "execution_count": 7,
   "id": "bc310c34",
   "metadata": {
    "execution": {
     "iopub.execute_input": "2023-01-25T12:37:35.794215Z",
     "iopub.status.busy": "2023-01-25T12:37:35.793857Z",
     "iopub.status.idle": "2023-01-25T12:37:35.811884Z",
     "shell.execute_reply": "2023-01-25T12:37:35.810878Z"
    },
    "papermill": {
     "duration": 0.026444,
     "end_time": "2023-01-25T12:37:35.814150",
     "exception": false,
     "start_time": "2023-01-25T12:37:35.787706",
     "status": "completed"
    },
    "tags": []
   },
   "outputs": [],
   "source": [
    "# 0 para vermelho e 1 para branco;\n",
    "df['style'] = df['style'].replace('red', 0)\n",
    "df['style'] = df['style'].replace('white', 1)\n",
    "\n",
    "y = df['style']\n",
    "x = df.drop('style', axis = 1)"
   ]
  },
  {
   "cell_type": "code",
   "execution_count": 8,
   "id": "bca7b93d",
   "metadata": {
    "execution": {
     "iopub.execute_input": "2023-01-25T12:37:35.825800Z",
     "iopub.status.busy": "2023-01-25T12:37:35.825198Z",
     "iopub.status.idle": "2023-01-25T12:37:35.832462Z",
     "shell.execute_reply": "2023-01-25T12:37:35.831624Z"
    },
    "papermill": {
     "duration": 0.015267,
     "end_time": "2023-01-25T12:37:35.834611",
     "exception": false,
     "start_time": "2023-01-25T12:37:35.819344",
     "status": "completed"
    },
    "tags": []
   },
   "outputs": [],
   "source": [
    "x_treino , x_teste, y_treino, y_teste = train_test_split(x, y, test_size= 0.3)"
   ]
  },
  {
   "cell_type": "code",
   "execution_count": 9,
   "id": "ff00c508",
   "metadata": {
    "execution": {
     "iopub.execute_input": "2023-01-25T12:37:35.846006Z",
     "iopub.status.busy": "2023-01-25T12:37:35.845666Z",
     "iopub.status.idle": "2023-01-25T12:37:35.852066Z",
     "shell.execute_reply": "2023-01-25T12:37:35.851046Z"
    },
    "papermill": {
     "duration": 0.014494,
     "end_time": "2023-01-25T12:37:35.854180",
     "exception": false,
     "start_time": "2023-01-25T12:37:35.839686",
     "status": "completed"
    },
    "tags": []
   },
   "outputs": [
    {
     "data": {
      "text/plain": [
       "(1950, 12)"
      ]
     },
     "execution_count": 9,
     "metadata": {},
     "output_type": "execute_result"
    }
   ],
   "source": [
    "x_teste.shape"
   ]
  },
  {
   "cell_type": "code",
   "execution_count": 10,
   "id": "f011673b",
   "metadata": {
    "execution": {
     "iopub.execute_input": "2023-01-25T12:37:35.865554Z",
     "iopub.status.busy": "2023-01-25T12:37:35.865246Z",
     "iopub.status.idle": "2023-01-25T12:37:35.871397Z",
     "shell.execute_reply": "2023-01-25T12:37:35.870303Z"
    },
    "papermill": {
     "duration": 0.014248,
     "end_time": "2023-01-25T12:37:35.873512",
     "exception": false,
     "start_time": "2023-01-25T12:37:35.859264",
     "status": "completed"
    },
    "tags": []
   },
   "outputs": [
    {
     "data": {
      "text/plain": [
       "(6497, 12)"
      ]
     },
     "execution_count": 10,
     "metadata": {},
     "output_type": "execute_result"
    }
   ],
   "source": [
    "x.shape"
   ]
  },
  {
   "cell_type": "markdown",
   "id": "0033ef25",
   "metadata": {
    "papermill": {
     "duration": 0.005004,
     "end_time": "2023-01-25T12:37:35.883787",
     "exception": false,
     "start_time": "2023-01-25T12:37:35.878783",
     "status": "completed"
    },
    "tags": []
   },
   "source": [
    "O \"ExtraTreesClassifier\" também da biblioteca sklearn, é uma classe que implementa um meta estimador que ajusta um número de árvores de decisão aleatórias em várias subamostras do conjunto de dados e usa a média para melhorar a precisão preditiva e controlar o ajuste excessivo."
   ]
  },
  {
   "cell_type": "code",
   "execution_count": 11,
   "id": "a4d2188a",
   "metadata": {
    "execution": {
     "iopub.execute_input": "2023-01-25T12:37:35.895880Z",
     "iopub.status.busy": "2023-01-25T12:37:35.895217Z",
     "iopub.status.idle": "2023-01-25T12:37:36.252646Z",
     "shell.execute_reply": "2023-01-25T12:37:36.251595Z"
    },
    "papermill": {
     "duration": 0.366496,
     "end_time": "2023-01-25T12:37:36.255381",
     "exception": false,
     "start_time": "2023-01-25T12:37:35.888885",
     "status": "completed"
    },
    "tags": []
   },
   "outputs": [
    {
     "data": {
      "text/plain": [
       "ExtraTreesClassifier()"
      ]
     },
     "execution_count": 11,
     "metadata": {},
     "output_type": "execute_result"
    }
   ],
   "source": [
    "modelo = ExtraTreesClassifier()\n",
    "modelo.fit(x_treino, y_treino)"
   ]
  },
  {
   "cell_type": "code",
   "execution_count": 12,
   "id": "c984cda3",
   "metadata": {
    "execution": {
     "iopub.execute_input": "2023-01-25T12:37:36.267956Z",
     "iopub.status.busy": "2023-01-25T12:37:36.267461Z",
     "iopub.status.idle": "2023-01-25T12:37:36.275129Z",
     "shell.execute_reply": "2023-01-25T12:37:36.274052Z"
    },
    "papermill": {
     "duration": 0.016256,
     "end_time": "2023-01-25T12:37:36.277261",
     "exception": false,
     "start_time": "2023-01-25T12:37:36.261005",
     "status": "completed"
    },
    "tags": []
   },
   "outputs": [
    {
     "data": {
      "text/plain": [
       "211     0\n",
       "521     0\n",
       "961     0\n",
       "1733    1\n",
       "2591    1\n",
       "5434    1\n",
       "Name: style, dtype: int64"
      ]
     },
     "execution_count": 12,
     "metadata": {},
     "output_type": "execute_result"
    }
   ],
   "source": [
    "y_teste[0:6]"
   ]
  },
  {
   "cell_type": "code",
   "execution_count": 13,
   "id": "50bb175d",
   "metadata": {
    "execution": {
     "iopub.execute_input": "2023-01-25T12:37:36.289678Z",
     "iopub.status.busy": "2023-01-25T12:37:36.289288Z",
     "iopub.status.idle": "2023-01-25T12:37:36.313007Z",
     "shell.execute_reply": "2023-01-25T12:37:36.311984Z"
    },
    "papermill": {
     "duration": 0.032473,
     "end_time": "2023-01-25T12:37:36.315205",
     "exception": false,
     "start_time": "2023-01-25T12:37:36.282732",
     "status": "completed"
    },
    "tags": []
   },
   "outputs": [
    {
     "data": {
      "text/plain": [
       "array([0, 0, 0, 1, 1, 1, 1, 1, 1, 0])"
      ]
     },
     "execution_count": 13,
     "metadata": {},
     "output_type": "execute_result"
    }
   ],
   "source": [
    "previsoes = modelo.predict(x_teste[0:10])\n",
    "previsoes"
   ]
  },
  {
   "cell_type": "code",
   "execution_count": 14,
   "id": "73391247",
   "metadata": {
    "execution": {
     "iopub.execute_input": "2023-01-25T12:37:36.327841Z",
     "iopub.status.busy": "2023-01-25T12:37:36.327459Z",
     "iopub.status.idle": "2023-01-25T12:37:36.380622Z",
     "shell.execute_reply": "2023-01-25T12:37:36.379268Z"
    },
    "papermill": {
     "duration": 0.062123,
     "end_time": "2023-01-25T12:37:36.382980",
     "exception": false,
     "start_time": "2023-01-25T12:37:36.320857",
     "status": "completed"
    },
    "tags": []
   },
   "outputs": [
    {
     "name": "stdout",
     "output_type": "stream",
     "text": [
      "Resultado 0.9958974358974358\n"
     ]
    }
   ],
   "source": [
    "final = modelo.score(x_teste, y_teste)\n",
    "print('Resultado', final)"
   ]
  },
  {
   "cell_type": "markdown",
   "id": "15bd86bc",
   "metadata": {
    "papermill": {
     "duration": 0.005294,
     "end_time": "2023-01-25T12:37:36.394023",
     "exception": false,
     "start_time": "2023-01-25T12:37:36.388729",
     "status": "completed"
    },
    "tags": []
   },
   "source": [
    "Um resultado de 99% de acurácia. É importante ressaltar que lidamos com um volume de dados simples e higienizados, no qual não possui valores faltantes e fins. Isso significa que se conseguirmos uma porcentagem alta no acerto da acurácia, podemos ficar mais confiantes no que tange o resultado.\n",
    "\n",
    "Fato é, que quanto mais complexo e \"sujo\" o volume de dados, menor é a probabilidade de acertos e ainda, mesmo tendo um nível alto de acurácia, precisamos desconfiar, uma vez aconselhado por um experiente data scientist: quando se trata de dados devemos ter uma postura cética e imparcial para uma maior precisão no objetivo desejado."
   ]
  }
 ],
 "metadata": {
  "kernelspec": {
   "display_name": "Python 3",
   "language": "python",
   "name": "python3"
  },
  "language_info": {
   "codemirror_mode": {
    "name": "ipython",
    "version": 3
   },
   "file_extension": ".py",
   "mimetype": "text/x-python",
   "name": "python",
   "nbconvert_exporter": "python",
   "pygments_lexer": "ipython3",
   "version": "3.7.12"
  },
  "papermill": {
   "default_parameters": {},
   "duration": 11.429964,
   "end_time": "2023-01-25T12:37:37.020419",
   "environment_variables": {},
   "exception": null,
   "input_path": "__notebook__.ipynb",
   "output_path": "__notebook__.ipynb",
   "parameters": {},
   "start_time": "2023-01-25T12:37:25.590455",
   "version": "2.3.4"
  }
 },
 "nbformat": 4,
 "nbformat_minor": 5
}
