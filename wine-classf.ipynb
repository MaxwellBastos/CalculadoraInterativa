{
 "cells": [
  {
   "cell_type": "markdown",
   "id": "ecfc334f",
   "metadata": {
    "papermill": {
     "duration": 0.006149,
     "end_time": "2023-01-28T15:08:27.486756",
     "exception": false,
     "start_time": "2023-01-28T15:08:27.480607",
     "status": "completed"
    },
    "tags": []
   },
   "source": [
    "# Classificador de Vinhos\n",
    "\n",
    "Para além do desafio \"Titanic\", esse é um ótimo projeto para quem está iniciando no mundo de Data Science e Machine Learning. Trata-se de um dataset de vinhos no qual vamos explorar com o intuito de elaborar um modelo de Machine Learning capaz de categorizar a bebida com base em suas características, tendo como missão final classificar se o vinho é tinto ou branco."
   ]
  },
  {
   "cell_type": "code",
   "execution_count": 1,
   "id": "50adbcca",
   "metadata": {
    "_cell_guid": "b1076dfc-b9ad-4769-8c92-a6c4dae69d19",
    "_uuid": "8f2839f25d086af736a60e9eeb907d3b93b6e0e5",
    "execution": {
     "iopub.execute_input": "2023-01-28T15:08:27.498868Z",
     "iopub.status.busy": "2023-01-28T15:08:27.498041Z",
     "iopub.status.idle": "2023-01-28T15:08:29.204485Z",
     "shell.execute_reply": "2023-01-28T15:08:29.203073Z"
    },
    "papermill": {
     "duration": 1.715643,
     "end_time": "2023-01-28T15:08:29.207420",
     "exception": false,
     "start_time": "2023-01-28T15:08:27.491777",
     "status": "completed"
    },
    "tags": []
   },
   "outputs": [
    {
     "name": "stdout",
     "output_type": "stream",
     "text": [
      "/kaggle/input/wine-dataset/wine_dataset.csv\n"
     ]
    }
   ],
   "source": [
    "# This Python 3 environment comes with many helpful analytics libraries installed\n",
    "# It is defined by the kaggle/python Docker image: https://github.com/kaggle/docker-python\n",
    "# For example, here's several helpful packages to load\n",
    "\n",
    "import numpy as np # linear algebra\n",
    "import pandas as pd # data processing, CSV file I/O (e.g. pd.read_csv)\n",
    "\n",
    "# Input data files are available in the read-only \"../input/\" directory\n",
    "# For example, running this (by clicking run or pressing Shift+Enter) will list all files under the input directory\n",
    "\n",
    "import os\n",
    "for dirname, _, filenames in os.walk('/kaggle/input'):\n",
    "    for filename in filenames:\n",
    "        print(os.path.join(dirname, filename))\n",
    "\n",
    "from sklearn.model_selection import train_test_split\n",
    "from sklearn.ensemble import ExtraTreesClassifier\n"
   ]
  },
  {
   "cell_type": "code",
   "execution_count": 2,
   "id": "1fdee71a",
   "metadata": {
    "execution": {
     "iopub.execute_input": "2023-01-28T15:08:29.220054Z",
     "iopub.status.busy": "2023-01-28T15:08:29.219647Z",
     "iopub.status.idle": "2023-01-28T15:08:29.262491Z",
     "shell.execute_reply": "2023-01-28T15:08:29.259981Z"
    },
    "papermill": {
     "duration": 0.052683,
     "end_time": "2023-01-28T15:08:29.265486",
     "exception": false,
     "start_time": "2023-01-28T15:08:29.212803",
     "status": "completed"
    },
    "tags": []
   },
   "outputs": [],
   "source": [
    "df = pd.read_csv('../input/wine-dataset/wine_dataset.csv')"
   ]
  },
  {
   "cell_type": "code",
   "execution_count": 3,
   "id": "c6fdd125",
   "metadata": {
    "execution": {
     "iopub.execute_input": "2023-01-28T15:08:29.278435Z",
     "iopub.status.busy": "2023-01-28T15:08:29.277455Z",
     "iopub.status.idle": "2023-01-28T15:08:29.315718Z",
     "shell.execute_reply": "2023-01-28T15:08:29.314382Z"
    },
    "papermill": {
     "duration": 0.048082,
     "end_time": "2023-01-28T15:08:29.318750",
     "exception": false,
     "start_time": "2023-01-28T15:08:29.270668",
     "status": "completed"
    },
    "tags": []
   },
   "outputs": [
    {
     "data": {
      "text/html": [
       "<div>\n",
       "<style scoped>\n",
       "    .dataframe tbody tr th:only-of-type {\n",
       "        vertical-align: middle;\n",
       "    }\n",
       "\n",
       "    .dataframe tbody tr th {\n",
       "        vertical-align: top;\n",
       "    }\n",
       "\n",
       "    .dataframe thead th {\n",
       "        text-align: right;\n",
       "    }\n",
       "</style>\n",
       "<table border=\"1\" class=\"dataframe\">\n",
       "  <thead>\n",
       "    <tr style=\"text-align: right;\">\n",
       "      <th></th>\n",
       "      <th>fixed_acidity</th>\n",
       "      <th>volatile_acidity</th>\n",
       "      <th>citric_acid</th>\n",
       "      <th>residual_sugar</th>\n",
       "      <th>chlorides</th>\n",
       "      <th>free_sulfur_dioxide</th>\n",
       "      <th>total_sulfur_dioxide</th>\n",
       "      <th>density</th>\n",
       "      <th>pH</th>\n",
       "      <th>sulphates</th>\n",
       "      <th>alcohol</th>\n",
       "      <th>quality</th>\n",
       "      <th>style</th>\n",
       "    </tr>\n",
       "  </thead>\n",
       "  <tbody>\n",
       "    <tr>\n",
       "      <th>0</th>\n",
       "      <td>7.4</td>\n",
       "      <td>0.70</td>\n",
       "      <td>0.00</td>\n",
       "      <td>1.9</td>\n",
       "      <td>0.076</td>\n",
       "      <td>11.0</td>\n",
       "      <td>34.0</td>\n",
       "      <td>0.9978</td>\n",
       "      <td>3.51</td>\n",
       "      <td>0.56</td>\n",
       "      <td>9.4</td>\n",
       "      <td>5</td>\n",
       "      <td>red</td>\n",
       "    </tr>\n",
       "    <tr>\n",
       "      <th>1</th>\n",
       "      <td>7.8</td>\n",
       "      <td>0.88</td>\n",
       "      <td>0.00</td>\n",
       "      <td>2.6</td>\n",
       "      <td>0.098</td>\n",
       "      <td>25.0</td>\n",
       "      <td>67.0</td>\n",
       "      <td>0.9968</td>\n",
       "      <td>3.20</td>\n",
       "      <td>0.68</td>\n",
       "      <td>9.8</td>\n",
       "      <td>5</td>\n",
       "      <td>red</td>\n",
       "    </tr>\n",
       "    <tr>\n",
       "      <th>2</th>\n",
       "      <td>7.8</td>\n",
       "      <td>0.76</td>\n",
       "      <td>0.04</td>\n",
       "      <td>2.3</td>\n",
       "      <td>0.092</td>\n",
       "      <td>15.0</td>\n",
       "      <td>54.0</td>\n",
       "      <td>0.9970</td>\n",
       "      <td>3.26</td>\n",
       "      <td>0.65</td>\n",
       "      <td>9.8</td>\n",
       "      <td>5</td>\n",
       "      <td>red</td>\n",
       "    </tr>\n",
       "    <tr>\n",
       "      <th>3</th>\n",
       "      <td>11.2</td>\n",
       "      <td>0.28</td>\n",
       "      <td>0.56</td>\n",
       "      <td>1.9</td>\n",
       "      <td>0.075</td>\n",
       "      <td>17.0</td>\n",
       "      <td>60.0</td>\n",
       "      <td>0.9980</td>\n",
       "      <td>3.16</td>\n",
       "      <td>0.58</td>\n",
       "      <td>9.8</td>\n",
       "      <td>6</td>\n",
       "      <td>red</td>\n",
       "    </tr>\n",
       "    <tr>\n",
       "      <th>4</th>\n",
       "      <td>7.4</td>\n",
       "      <td>0.70</td>\n",
       "      <td>0.00</td>\n",
       "      <td>1.9</td>\n",
       "      <td>0.076</td>\n",
       "      <td>11.0</td>\n",
       "      <td>34.0</td>\n",
       "      <td>0.9978</td>\n",
       "      <td>3.51</td>\n",
       "      <td>0.56</td>\n",
       "      <td>9.4</td>\n",
       "      <td>5</td>\n",
       "      <td>red</td>\n",
       "    </tr>\n",
       "  </tbody>\n",
       "</table>\n",
       "</div>"
      ],
      "text/plain": [
       "   fixed_acidity  volatile_acidity  citric_acid  residual_sugar  chlorides  \\\n",
       "0            7.4              0.70         0.00             1.9      0.076   \n",
       "1            7.8              0.88         0.00             2.6      0.098   \n",
       "2            7.8              0.76         0.04             2.3      0.092   \n",
       "3           11.2              0.28         0.56             1.9      0.075   \n",
       "4            7.4              0.70         0.00             1.9      0.076   \n",
       "\n",
       "   free_sulfur_dioxide  total_sulfur_dioxide  density    pH  sulphates  \\\n",
       "0                 11.0                  34.0   0.9978  3.51       0.56   \n",
       "1                 25.0                  67.0   0.9968  3.20       0.68   \n",
       "2                 15.0                  54.0   0.9970  3.26       0.65   \n",
       "3                 17.0                  60.0   0.9980  3.16       0.58   \n",
       "4                 11.0                  34.0   0.9978  3.51       0.56   \n",
       "\n",
       "   alcohol  quality style  \n",
       "0      9.4        5   red  \n",
       "1      9.8        5   red  \n",
       "2      9.8        5   red  \n",
       "3      9.8        6   red  \n",
       "4      9.4        5   red  "
      ]
     },
     "execution_count": 3,
     "metadata": {},
     "output_type": "execute_result"
    }
   ],
   "source": [
    "#Exibindo os cinco primeiros resultados.\n",
    "df.head()"
   ]
  },
  {
   "cell_type": "code",
   "execution_count": 4,
   "id": "26883a4e",
   "metadata": {
    "execution": {
     "iopub.execute_input": "2023-01-28T15:08:29.332842Z",
     "iopub.status.busy": "2023-01-28T15:08:29.332381Z",
     "iopub.status.idle": "2023-01-28T15:08:29.341591Z",
     "shell.execute_reply": "2023-01-28T15:08:29.340206Z"
    },
    "papermill": {
     "duration": 0.020132,
     "end_time": "2023-01-28T15:08:29.345105",
     "exception": false,
     "start_time": "2023-01-28T15:08:29.324973",
     "status": "completed"
    },
    "tags": []
   },
   "outputs": [
    {
     "data": {
      "text/plain": [
       "(6497, 13)"
      ]
     },
     "execution_count": 4,
     "metadata": {},
     "output_type": "execute_result"
    }
   ],
   "source": [
    "df.shape"
   ]
  },
  {
   "cell_type": "code",
   "execution_count": 5,
   "id": "5192fe53",
   "metadata": {
    "execution": {
     "iopub.execute_input": "2023-01-28T15:08:29.360549Z",
     "iopub.status.busy": "2023-01-28T15:08:29.359648Z",
     "iopub.status.idle": "2023-01-28T15:08:29.371935Z",
     "shell.execute_reply": "2023-01-28T15:08:29.370139Z"
    },
    "papermill": {
     "duration": 0.022735,
     "end_time": "2023-01-28T15:08:29.374779",
     "exception": false,
     "start_time": "2023-01-28T15:08:29.352044",
     "status": "completed"
    },
    "tags": []
   },
   "outputs": [
    {
     "data": {
      "text/plain": [
       "fixed_acidity           float64\n",
       "volatile_acidity        float64\n",
       "citric_acid             float64\n",
       "residual_sugar          float64\n",
       "chlorides               float64\n",
       "free_sulfur_dioxide     float64\n",
       "total_sulfur_dioxide    float64\n",
       "density                 float64\n",
       "pH                      float64\n",
       "sulphates               float64\n",
       "alcohol                 float64\n",
       "quality                   int64\n",
       "style                    object\n",
       "dtype: object"
      ]
     },
     "execution_count": 5,
     "metadata": {},
     "output_type": "execute_result"
    }
   ],
   "source": [
    "df.dtypes"
   ]
  },
  {
   "cell_type": "code",
   "execution_count": 6,
   "id": "70ff8a00",
   "metadata": {
    "execution": {
     "iopub.execute_input": "2023-01-28T15:08:29.388396Z",
     "iopub.status.busy": "2023-01-28T15:08:29.387967Z",
     "iopub.status.idle": "2023-01-28T15:08:29.399571Z",
     "shell.execute_reply": "2023-01-28T15:08:29.398121Z"
    },
    "papermill": {
     "duration": 0.021788,
     "end_time": "2023-01-28T15:08:29.402330",
     "exception": false,
     "start_time": "2023-01-28T15:08:29.380542",
     "status": "completed"
    },
    "tags": []
   },
   "outputs": [
    {
     "data": {
      "text/plain": [
       "fixed_acidity           0\n",
       "volatile_acidity        0\n",
       "citric_acid             0\n",
       "residual_sugar          0\n",
       "chlorides               0\n",
       "free_sulfur_dioxide     0\n",
       "total_sulfur_dioxide    0\n",
       "density                 0\n",
       "pH                      0\n",
       "sulphates               0\n",
       "alcohol                 0\n",
       "quality                 0\n",
       "style                   0\n",
       "dtype: int64"
      ]
     },
     "execution_count": 6,
     "metadata": {},
     "output_type": "execute_result"
    }
   ],
   "source": [
    "#Verificando se possui valores faltantes;\n",
    "df.isnull().sum()"
   ]
  },
  {
   "cell_type": "markdown",
   "id": "93491c79",
   "metadata": {
    "papermill": {
     "duration": 0.005201,
     "end_time": "2023-01-28T15:08:29.413199",
     "exception": false,
     "start_time": "2023-01-28T15:08:29.407998",
     "status": "completed"
    },
    "tags": []
   },
   "source": [
    "Agora vamos substituir as strings (red e white) na coluna \"Style\" para valores numéricos, a única linguagem que o  algoritmo entende:"
   ]
  },
  {
   "cell_type": "code",
   "execution_count": 7,
   "id": "42767320",
   "metadata": {
    "execution": {
     "iopub.execute_input": "2023-01-28T15:08:29.427559Z",
     "iopub.status.busy": "2023-01-28T15:08:29.427069Z",
     "iopub.status.idle": "2023-01-28T15:08:29.450070Z",
     "shell.execute_reply": "2023-01-28T15:08:29.448795Z"
    },
    "papermill": {
     "duration": 0.034429,
     "end_time": "2023-01-28T15:08:29.453230",
     "exception": false,
     "start_time": "2023-01-28T15:08:29.418801",
     "status": "completed"
    },
    "tags": []
   },
   "outputs": [],
   "source": [
    "# 0 para vermelho e 1 para branco;\n",
    "df['style'] = df['style'].replace('red', 0)\n",
    "df['style'] = df['style'].replace('white', 1)\n",
    "\n",
    "y = df['style']\n",
    "x = df.drop('style', axis = 1)"
   ]
  },
  {
   "cell_type": "code",
   "execution_count": 8,
   "id": "62b183a4",
   "metadata": {
    "execution": {
     "iopub.execute_input": "2023-01-28T15:08:29.468318Z",
     "iopub.status.busy": "2023-01-28T15:08:29.467789Z",
     "iopub.status.idle": "2023-01-28T15:08:29.476739Z",
     "shell.execute_reply": "2023-01-28T15:08:29.475431Z"
    },
    "papermill": {
     "duration": 0.020191,
     "end_time": "2023-01-28T15:08:29.479357",
     "exception": false,
     "start_time": "2023-01-28T15:08:29.459166",
     "status": "completed"
    },
    "tags": []
   },
   "outputs": [],
   "source": [
    "x_treino , x_teste, y_treino, y_teste = train_test_split(x, y, test_size= 0.3)"
   ]
  },
  {
   "cell_type": "code",
   "execution_count": 9,
   "id": "8c51c2e4",
   "metadata": {
    "execution": {
     "iopub.execute_input": "2023-01-28T15:08:29.493219Z",
     "iopub.status.busy": "2023-01-28T15:08:29.492066Z",
     "iopub.status.idle": "2023-01-28T15:08:29.499233Z",
     "shell.execute_reply": "2023-01-28T15:08:29.498404Z"
    },
    "papermill": {
     "duration": 0.016481,
     "end_time": "2023-01-28T15:08:29.501685",
     "exception": false,
     "start_time": "2023-01-28T15:08:29.485204",
     "status": "completed"
    },
    "tags": []
   },
   "outputs": [
    {
     "data": {
      "text/plain": [
       "(1950, 12)"
      ]
     },
     "execution_count": 9,
     "metadata": {},
     "output_type": "execute_result"
    }
   ],
   "source": [
    "x_teste.shape"
   ]
  },
  {
   "cell_type": "code",
   "execution_count": 10,
   "id": "5e6e19fa",
   "metadata": {
    "execution": {
     "iopub.execute_input": "2023-01-28T15:08:29.515162Z",
     "iopub.status.busy": "2023-01-28T15:08:29.514512Z",
     "iopub.status.idle": "2023-01-28T15:08:29.521412Z",
     "shell.execute_reply": "2023-01-28T15:08:29.519965Z"
    },
    "papermill": {
     "duration": 0.016862,
     "end_time": "2023-01-28T15:08:29.524121",
     "exception": false,
     "start_time": "2023-01-28T15:08:29.507259",
     "status": "completed"
    },
    "tags": []
   },
   "outputs": [
    {
     "data": {
      "text/plain": [
       "(6497, 12)"
      ]
     },
     "execution_count": 10,
     "metadata": {},
     "output_type": "execute_result"
    }
   ],
   "source": [
    "x.shape"
   ]
  },
  {
   "cell_type": "markdown",
   "id": "8e60a11f",
   "metadata": {
    "papermill": {
     "duration": 0.007289,
     "end_time": "2023-01-28T15:08:29.537282",
     "exception": false,
     "start_time": "2023-01-28T15:08:29.529993",
     "status": "completed"
    },
    "tags": []
   },
   "source": [
    "O \"ExtraTreesClassifier\" também da biblioteca sklearn, é uma classe que implementa um meta estimador que ajusta um número de árvores de decisão aleatórias em várias subamostras do conjunto de dados e usa a média para melhorar a precisão preditiva e controlar o ajuste excessivo."
   ]
  },
  {
   "cell_type": "code",
   "execution_count": 11,
   "id": "878b7797",
   "metadata": {
    "execution": {
     "iopub.execute_input": "2023-01-28T15:08:29.551437Z",
     "iopub.status.busy": "2023-01-28T15:08:29.550918Z",
     "iopub.status.idle": "2023-01-28T15:08:29.949208Z",
     "shell.execute_reply": "2023-01-28T15:08:29.947649Z"
    },
    "papermill": {
     "duration": 0.410055,
     "end_time": "2023-01-28T15:08:29.953667",
     "exception": false,
     "start_time": "2023-01-28T15:08:29.543612",
     "status": "completed"
    },
    "tags": []
   },
   "outputs": [
    {
     "data": {
      "text/plain": [
       "ExtraTreesClassifier()"
      ]
     },
     "execution_count": 11,
     "metadata": {},
     "output_type": "execute_result"
    }
   ],
   "source": [
    "modelo = ExtraTreesClassifier()\n",
    "modelo.fit(x_treino, y_treino)"
   ]
  },
  {
   "cell_type": "code",
   "execution_count": 12,
   "id": "914a237d",
   "metadata": {
    "execution": {
     "iopub.execute_input": "2023-01-28T15:08:29.972479Z",
     "iopub.status.busy": "2023-01-28T15:08:29.972043Z",
     "iopub.status.idle": "2023-01-28T15:08:29.981399Z",
     "shell.execute_reply": "2023-01-28T15:08:29.979717Z"
    },
    "papermill": {
     "duration": 0.022041,
     "end_time": "2023-01-28T15:08:29.984864",
     "exception": false,
     "start_time": "2023-01-28T15:08:29.962823",
     "status": "completed"
    },
    "tags": []
   },
   "outputs": [
    {
     "data": {
      "text/plain": [
       "4567    1\n",
       "2105    1\n",
       "5986    1\n",
       "1849    1\n",
       "1397    0\n",
       "615     0\n",
       "Name: style, dtype: int64"
      ]
     },
     "execution_count": 12,
     "metadata": {},
     "output_type": "execute_result"
    }
   ],
   "source": [
    "y_teste[0:6]"
   ]
  },
  {
   "cell_type": "code",
   "execution_count": 13,
   "id": "419cbd7b",
   "metadata": {
    "execution": {
     "iopub.execute_input": "2023-01-28T15:08:29.999757Z",
     "iopub.status.busy": "2023-01-28T15:08:29.999347Z",
     "iopub.status.idle": "2023-01-28T15:08:30.025858Z",
     "shell.execute_reply": "2023-01-28T15:08:30.024331Z"
    },
    "papermill": {
     "duration": 0.037926,
     "end_time": "2023-01-28T15:08:30.028819",
     "exception": false,
     "start_time": "2023-01-28T15:08:29.990893",
     "status": "completed"
    },
    "tags": []
   },
   "outputs": [
    {
     "data": {
      "text/plain": [
       "array([1, 1, 1, 1, 0, 0, 1, 0, 0, 1])"
      ]
     },
     "execution_count": 13,
     "metadata": {},
     "output_type": "execute_result"
    }
   ],
   "source": [
    "previsoes = modelo.predict(x_teste[0:10])\n",
    "previsoes"
   ]
  },
  {
   "cell_type": "code",
   "execution_count": 14,
   "id": "1eaac472",
   "metadata": {
    "execution": {
     "iopub.execute_input": "2023-01-28T15:08:30.043969Z",
     "iopub.status.busy": "2023-01-28T15:08:30.043401Z",
     "iopub.status.idle": "2023-01-28T15:08:30.104834Z",
     "shell.execute_reply": "2023-01-28T15:08:30.103160Z"
    },
    "papermill": {
     "duration": 0.073693,
     "end_time": "2023-01-28T15:08:30.108664",
     "exception": false,
     "start_time": "2023-01-28T15:08:30.034971",
     "status": "completed"
    },
    "tags": []
   },
   "outputs": [
    {
     "name": "stdout",
     "output_type": "stream",
     "text": [
      "Resultado 0.9953846153846154\n"
     ]
    }
   ],
   "source": [
    "final = modelo.score(x_teste, y_teste)\n",
    "print('Resultado', final)"
   ]
  },
  {
   "cell_type": "markdown",
   "id": "a3ef9710",
   "metadata": {
    "papermill": {
     "duration": 0.005805,
     "end_time": "2023-01-28T15:08:30.120957",
     "exception": false,
     "start_time": "2023-01-28T15:08:30.115152",
     "status": "completed"
    },
    "tags": []
   },
   "source": [
    "Um resultado de 99% de acurácia. É importante ressaltar que lidamos com um volume de dados simples e higienizados, no qual não possui valores faltantes e fins. Isso significa que se conseguirmos uma porcentagem alta no acerto da acurácia podemos ficar mais confiantes no que tange o resultado.\n",
    "\n",
    "Fato é, que quanto mais complexo e \"sujo\" o volume de dados, menor é a probabilidade de acertos, e ainda mesmo tendo um nível alto de acurácia precisamos desconfiar. Uma vez aconselhado por um experiente data scientist: quando se trata de dados devemos ter uma postura cética e imparcial para uma maior precisão no objetivo desejado."
   ]
  }
 ],
 "metadata": {
  "kernelspec": {
   "display_name": "Python 3",
   "language": "python",
   "name": "python3"
  },
  "language_info": {
   "codemirror_mode": {
    "name": "ipython",
    "version": 3
   },
   "file_extension": ".py",
   "mimetype": "text/x-python",
   "name": "python",
   "nbconvert_exporter": "python",
   "pygments_lexer": "ipython3",
   "version": "3.7.12"
  },
  "papermill": {
   "default_parameters": {},
   "duration": 13.515704,
   "end_time": "2023-01-28T15:08:30.953537",
   "environment_variables": {},
   "exception": null,
   "input_path": "__notebook__.ipynb",
   "output_path": "__notebook__.ipynb",
   "parameters": {},
   "start_time": "2023-01-28T15:08:17.437833",
   "version": "2.3.4"
  }
 },
 "nbformat": 4,
 "nbformat_minor": 5
}
